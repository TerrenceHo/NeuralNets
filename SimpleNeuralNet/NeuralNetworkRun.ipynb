{
 "cells": [
  {
   "cell_type": "code",
   "execution_count": 1,
   "metadata": {
    "collapsed": false
   },
   "outputs": [],
   "source": [
    "import numpy as np\n",
    "from NeuralNetwork import NeuralNetwork\n",
    "from load import *"
   ]
  },
  {
   "cell_type": "code",
   "execution_count": 2,
   "metadata": {
    "collapsed": true
   },
   "outputs": [],
   "source": [
    "X_train, y_train = load_mnist('./data')\n",
    "X_test, y_test = load_mnist('./data', 't10k')"
   ]
  },
  {
   "cell_type": "code",
   "execution_count": 3,
   "metadata": {
    "collapsed": false
   },
   "outputs": [],
   "source": [
    "parameters = {\n",
    "            'input_size': X_train.shape[1],\n",
    "            'hidden_size': 80,\n",
    "            'output_size': 10,\n",
    "            'learning_rate': 0.001,\n",
    "            'decay_rate': 0.00001,\n",
    "            'l2': 0.1,\n",
    "            'momentum_const': 0.5,\n",
    "            'minibatch': 500,\n",
    "            'epochs': 2000,\n",
    "            'dropout': True,\n",
    "            'dropout_rate': 0.5,\n",
    "        }\n",
    "nn = NeuralNetwork(**parameters)"
   ]
  },
  {
   "cell_type": "code",
   "execution_count": 4,
   "metadata": {
    "collapsed": false,
    "scrolled": true
   },
   "outputs": [
    {
     "name": "stderr",
     "output_type": "stream",
     "text": [
      "activations.py:29: RuntimeWarning: overflow encountered in exp\n",
      "  d = 1.0/(1.0 + np.exp(-w))\n"
     ]
    },
    {
     "name": "stdout",
     "output_type": "stream",
     "text": [
      "Epoch: 50\n",
      "Loss: 1.29472766508\n",
      "Training Accuracy: 89.0316666667\n",
      "Epoch: 100\n",
      "Loss: 1.14314511025\n",
      "Training Accuracy: 88.7\n",
      "Epoch: 150\n",
      "Loss: 1.41890624583\n",
      "Training Accuracy: 89.0683333333\n",
      "Epoch: 200\n",
      "Loss: 1.26216242925\n",
      "Training Accuracy: 89.4166666667\n",
      "Epoch: 250\n",
      "Loss: 0.957019235733\n",
      "Training Accuracy: 89.8083333333\n",
      "Epoch: 300\n",
      "Loss: 1.31039035251\n",
      "Training Accuracy: 89.9983333333\n",
      "Epoch: 350\n",
      "Loss: 0.872543362134\n",
      "Training Accuracy: 89.9833333333\n",
      "Epoch: 400\n",
      "Loss: 1.00250761248\n",
      "Training Accuracy: 90.4333333333\n",
      "Epoch: 450\n",
      "Loss: 1.01530007718\n",
      "Training Accuracy: 90.8616666667\n",
      "Epoch: 500\n",
      "Loss: 0.961831577673\n",
      "Training Accuracy: 90.6983333333\n",
      "Epoch: 550\n",
      "Loss: 0.658243877392\n",
      "Training Accuracy: 91.5283333333\n",
      "Epoch: 600\n",
      "Loss: 0.65960215238\n",
      "Training Accuracy: 91.61\n",
      "Epoch: 650\n",
      "Loss: 0.968593850422\n",
      "Training Accuracy: 91.9066666667\n",
      "Epoch: 700\n",
      "Loss: 0.656739770596\n",
      "Training Accuracy: 92.3116666667\n",
      "Epoch: 750\n",
      "Loss: 0.718028737072\n",
      "Training Accuracy: 92.2666666667\n",
      "Epoch: 800\n",
      "Loss: 0.748543734806\n",
      "Training Accuracy: 92.6566666667\n",
      "Epoch: 850\n",
      "Loss: 0.578936285407\n",
      "Training Accuracy: 92.915\n",
      "Epoch: 900\n",
      "Loss: 0.780917088682\n",
      "Training Accuracy: 93.1316666667\n",
      "Epoch: 950\n",
      "Loss: 0.483108478332\n",
      "Training Accuracy: 93.1433333333\n",
      "Epoch: 1000\n",
      "Loss: 0.510004120847\n",
      "Training Accuracy: 93.235\n",
      "Epoch: 1050\n",
      "Loss: 0.672021881665\n",
      "Training Accuracy: 93.3716666667\n",
      "Epoch: 1100\n",
      "Loss: 0.535318074851\n",
      "Training Accuracy: 93.37\n",
      "Epoch: 1150\n",
      "Loss: 0.797846194568\n",
      "Training Accuracy: 93.4066666667\n",
      "Epoch: 1200\n",
      "Loss: 0.512392868724\n",
      "Training Accuracy: 93.4316666667\n",
      "Epoch: 1250\n",
      "Loss: 0.594697135976\n",
      "Training Accuracy: 93.4266666667\n",
      "Epoch: 1300\n",
      "Loss: 0.682998842167\n",
      "Training Accuracy: 93.4116666667\n",
      "Epoch: 1350\n",
      "Loss: 0.576075585245\n",
      "Training Accuracy: 93.44\n",
      "Epoch: 1400\n",
      "Loss: 0.461521452219\n",
      "Training Accuracy: 93.43\n",
      "Epoch: 1450\n",
      "Loss: 0.646214123244\n",
      "Training Accuracy: 93.4316666667\n",
      "Epoch: 1500\n",
      "Loss: 0.53537704591\n",
      "Training Accuracy: 93.425\n",
      "Epoch: 1550\n",
      "Loss: 0.591408090573\n",
      "Training Accuracy: 93.4233333333\n",
      "Epoch: 1600\n",
      "Loss: 0.543405826312\n",
      "Training Accuracy: 93.4266666667\n",
      "Epoch: 1650\n",
      "Loss: 0.992769217165\n",
      "Training Accuracy: 93.4266666667\n",
      "Epoch: 1700\n",
      "Loss: 0.638477035379\n",
      "Training Accuracy: 93.425\n",
      "Epoch: 1750\n",
      "Loss: 0.762694642457\n",
      "Training Accuracy: 93.425\n",
      "Epoch: 1800\n",
      "Loss: 0.480291602968\n",
      "Training Accuracy: 93.425\n",
      "Epoch: 1850\n",
      "Loss: 0.552657063746\n",
      "Training Accuracy: 93.4266666667\n",
      "Epoch: 1900\n",
      "Loss: 0.639614243578\n",
      "Training Accuracy: 93.4266666667\n",
      "Epoch: 1950\n",
      "Loss: 0.880944420882\n",
      "Training Accuracy: 93.4266666667\n",
      "Epoch: 2000\n",
      "Loss: 0.530426888462\n",
      "Training Accuracy: 93.425\n",
      "('Accuracy:', 93.4)\n"
     ]
    }
   ],
   "source": [
    "nn.fit(X_train, y_train, True)\n",
    "accuracy = nn.accuracy(X_test, y_test)\n",
    "print(\"Accuracy:\", accuracy)"
   ]
  },
  {
   "cell_type": "code",
   "execution_count": 5,
   "metadata": {
    "collapsed": false
   },
   "outputs": [
    {
     "name": "stdout",
     "output_type": "stream",
     "text": [
      "('Accuracy:', 93.4)\n"
     ]
    }
   ],
   "source": [
    "accuracy = nn.accuracy(X_test, y_test)\n",
    "print(\"Accuracy:\", accuracy)"
   ]
  },
  {
   "cell_type": "code",
   "execution_count": null,
   "metadata": {
    "collapsed": true
   },
   "outputs": [],
   "source": []
  }
 ],
 "metadata": {
  "anaconda-cloud": {},
  "kernelspec": {
   "display_name": "Python [conda env:py27]",
   "language": "python",
   "name": "conda-env-py27-py"
  },
  "language_info": {
   "codemirror_mode": {
    "name": "ipython",
    "version": 2
   },
   "file_extension": ".py",
   "mimetype": "text/x-python",
   "name": "python",
   "nbconvert_exporter": "python",
   "pygments_lexer": "ipython2",
   "version": "2.7.13"
  }
 },
 "nbformat": 4,
 "nbformat_minor": 1
}
